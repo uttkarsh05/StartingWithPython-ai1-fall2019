{
  "nbformat": 4,
  "nbformat_minor": 0,
  "metadata": {
    "colab": {
      "name": "mnist-keras-cnn.ipynb",
      "provenance": [],
      "include_colab_link": true
    },
    "kernelspec": {
      "name": "python3",
      "display_name": "Python 3"
    },
    "accelerator": "GPU"
  },
  "cells": [
    {
      "cell_type": "markdown",
      "metadata": {
        "id": "view-in-github",
        "colab_type": "text"
      },
      "source": [
        "<a href=\"https://colab.research.google.com/github/uttkarsh05/StartingWithPython-ai1-fall2019/blob/master/mnist_keras_cnn.ipynb\" target=\"_parent\"><img src=\"https://colab.research.google.com/assets/colab-badge.svg\" alt=\"Open In Colab\"/></a>"
      ]
    },
    {
      "cell_type": "markdown",
      "metadata": {
        "id": "S48WfyP-eWLT",
        "colab_type": "text"
      },
      "source": [
        "## Importing"
      ]
    },
    {
      "cell_type": "code",
      "metadata": {
        "id": "nSWctjIAqJZB",
        "colab_type": "code",
        "outputId": "1bc95a3f-8e3e-45d1-d05f-8a9fe0574cf8",
        "colab": {
          "base_uri": "https://localhost:8080/",
          "height": 496
        }
      },
      "source": [
        "!pip install wandb"
      ],
      "execution_count": 4,
      "outputs": [
        {
          "output_type": "stream",
          "text": [
            "Requirement already satisfied: wandb in /usr/local/lib/python3.6/dist-packages (0.8.12)\n",
            "Requirement already satisfied: sentry-sdk>=0.4.0 in /usr/local/lib/python3.6/dist-packages (from wandb) (0.12.3)\n",
            "Requirement already satisfied: gql>=0.1.0 in /usr/local/lib/python3.6/dist-packages (from wandb) (0.1.0)\n",
            "Requirement already satisfied: psutil>=5.0.0 in /usr/local/lib/python3.6/dist-packages (from wandb) (5.4.8)\n",
            "Requirement already satisfied: docker-pycreds>=0.4.0 in /usr/local/lib/python3.6/dist-packages (from wandb) (0.4.0)\n",
            "Requirement already satisfied: requests>=2.0.0 in /usr/local/lib/python3.6/dist-packages (from wandb) (2.21.0)\n",
            "Requirement already satisfied: python-dateutil>=2.6.1 in /usr/local/lib/python3.6/dist-packages (from wandb) (2.8.0)\n",
            "Requirement already satisfied: subprocess32>=3.5.3 in /usr/local/lib/python3.6/dist-packages (from wandb) (3.5.4)\n",
            "Requirement already satisfied: shortuuid>=0.5.0 in /usr/local/lib/python3.6/dist-packages (from wandb) (0.5.0)\n",
            "Requirement already satisfied: watchdog>=0.8.3 in /usr/local/lib/python3.6/dist-packages (from wandb) (0.9.0)\n",
            "Requirement already satisfied: configparser>=3.8.1 in /usr/local/lib/python3.6/dist-packages (from wandb) (4.0.2)\n",
            "Requirement already satisfied: GitPython>=1.0.0 in /usr/local/lib/python3.6/dist-packages (from wandb) (3.0.3)\n",
            "Requirement already satisfied: Click>=7.0 in /usr/local/lib/python3.6/dist-packages (from wandb) (7.0)\n",
            "Requirement already satisfied: nvidia-ml-py3>=7.352.0 in /usr/local/lib/python3.6/dist-packages (from wandb) (7.352.0)\n",
            "Requirement already satisfied: six>=1.10.0 in /usr/local/lib/python3.6/dist-packages (from wandb) (1.12.0)\n",
            "Requirement already satisfied: certifi in /usr/local/lib/python3.6/dist-packages (from sentry-sdk>=0.4.0->wandb) (2019.9.11)\n",
            "Requirement already satisfied: urllib3>=1.9 in /usr/local/lib/python3.6/dist-packages (from sentry-sdk>=0.4.0->wandb) (1.24.3)\n",
            "Requirement already satisfied: promise>=0.4.0 in /usr/local/lib/python3.6/dist-packages (from gql>=0.1.0->wandb) (2.2.1)\n",
            "Requirement already satisfied: graphql-core>=0.5.0 in /usr/local/lib/python3.6/dist-packages (from gql>=0.1.0->wandb) (2.2.1)\n",
            "Requirement already satisfied: idna<2.9,>=2.5 in /usr/local/lib/python3.6/dist-packages (from requests>=2.0.0->wandb) (2.8)\n",
            "Requirement already satisfied: chardet<3.1.0,>=3.0.2 in /usr/local/lib/python3.6/dist-packages (from requests>=2.0.0->wandb) (3.0.4)\n",
            "Requirement already satisfied: PyYAML>=3.10 in /usr/local/lib/python3.6/dist-packages (from watchdog>=0.8.3->wandb) (3.13)\n",
            "Requirement already satisfied: argh>=0.24.1 in /usr/local/lib/python3.6/dist-packages (from watchdog>=0.8.3->wandb) (0.26.2)\n",
            "Requirement already satisfied: pathtools>=0.1.1 in /usr/local/lib/python3.6/dist-packages (from watchdog>=0.8.3->wandb) (0.1.2)\n",
            "Requirement already satisfied: gitdb2>=2.0.0 in /usr/local/lib/python3.6/dist-packages (from GitPython>=1.0.0->wandb) (2.0.6)\n",
            "Requirement already satisfied: rx<3,>=1.6 in /usr/local/lib/python3.6/dist-packages (from graphql-core>=0.5.0->gql>=0.1.0->wandb) (1.6.1)\n",
            "Requirement already satisfied: smmap2>=2.0.0 in /usr/local/lib/python3.6/dist-packages (from gitdb2>=2.0.0->GitPython>=1.0.0->wandb) (2.0.5)\n"
          ],
          "name": "stdout"
        }
      ]
    },
    {
      "cell_type": "code",
      "metadata": {
        "id": "7wpAO0NjdkGa",
        "colab_type": "code",
        "outputId": "c1455c7d-9d03-44ab-9673-27aa561c688c",
        "colab": {
          "base_uri": "https://localhost:8080/",
          "height": 34
        }
      },
      "source": [
        "# from lukas/mlclass\n",
        "from keras.datasets import mnist\n",
        "from keras.models import Sequential\n",
        "from keras.layers import Conv2D, MaxPooling2D, Dropout, Dense, Flatten\n",
        "from keras.utils import np_utils\n",
        "from wandb.keras import WandbCallback\n",
        "import wandb\n",
        "import os\n",
        "\n"
      ],
      "execution_count": 6,
      "outputs": [
        {
          "output_type": "stream",
          "text": [
            "Using TensorFlow backend.\n"
          ],
          "name": "stderr"
        }
      ]
    },
    {
      "cell_type": "code",
      "metadata": {
        "id": "HCIXgvVUquLz",
        "colab_type": "code",
        "outputId": "329f409e-5579-483b-9f5d-fb663d43c32e",
        "colab": {
          "base_uri": "https://localhost:8080/",
          "height": 34
        }
      },
      "source": [
        "run = wandb.init()"
      ],
      "execution_count": 15,
      "outputs": [
        {
          "output_type": "display_data",
          "data": {
            "text/html": [
              "\n",
              "            Notebook configured with <a href=\"https://wandb.com\" target=\"_blank\">W&B</a>. You can <a href=\"https://app.wandb.ai/uttakarsh05/uncategorized/runs/2oilbpxa\" target=\"_blank\">open</a> the run page, or call <code>%%wandb</code>\n",
              "            in a cell containing your training loop to display live results.  Learn more in our <a href=\"https://docs.wandb.com/docs/integrations/jupyter.html\" target=\"_blank\">docs</a>.\n",
              "        "
            ],
            "text/plain": [
              "<IPython.core.display.HTML object>"
            ]
          },
          "metadata": {
            "tags": []
          }
        }
      ]
    },
    {
      "cell_type": "markdown",
      "metadata": {
        "id": "H2iLJ24qefDt",
        "colab_type": "text"
      },
      "source": [
        "## Config"
      ]
    },
    {
      "cell_type": "code",
      "metadata": {
        "id": "xG8lUxuKd0uw",
        "colab_type": "code",
        "colab": {}
      },
      "source": [
        "# \n",
        "config = run.config\n",
        "# class Config:\n",
        "#   pass\n",
        "# config = Config()\n",
        "config.first_layer_convs = 32\n",
        "config.first_layer_conv_width = 3\n",
        "config.first_layer_conv_height = 3\n",
        "config.dropout = 0.2\n",
        "config.dense_layer_size = 100\n",
        "config.img_width = 28\n",
        "config.img_height = 28\n",
        "config.epochs = 30"
      ],
      "execution_count": 0,
      "outputs": []
    },
    {
      "cell_type": "markdown",
      "metadata": {
        "id": "vdRqoeq_ehuu",
        "colab_type": "text"
      },
      "source": [
        "## Setup"
      ]
    },
    {
      "cell_type": "code",
      "metadata": {
        "id": "SrkYbDtzdw4u",
        "colab_type": "code",
        "colab": {}
      },
      "source": [
        "(X_train, y_train), (X_test, y_test) = mnist.load_data()\n",
        "\n",
        "X_train = X_train.astype('float32')\n",
        "X_train /= 255.\n",
        "X_test = X_test.astype('float32')\n",
        "X_test /= 255.\n",
        "\n"
      ],
      "execution_count": 0,
      "outputs": []
    },
    {
      "cell_type": "code",
      "metadata": {
        "id": "cEtXh66KgtsP",
        "colab_type": "code",
        "outputId": "1015d33e-71d9-4816-e37e-7a9bfcc645fc",
        "colab": {
          "base_uri": "https://localhost:8080/",
          "height": 34
        }
      },
      "source": [
        "X_train.shape, y_test.shape"
      ],
      "execution_count": 20,
      "outputs": [
        {
          "output_type": "execute_result",
          "data": {
            "text/plain": [
              "((60000, 28, 28), (10000,))"
            ]
          },
          "metadata": {
            "tags": []
          },
          "execution_count": 20
        }
      ]
    },
    {
      "cell_type": "code",
      "metadata": {
        "id": "agWhTJudgoOS",
        "colab_type": "code",
        "outputId": "b8a6ef56-79dd-433c-afd8-db929694cf45",
        "colab": {
          "base_uri": "https://localhost:8080/",
          "height": 34
        }
      },
      "source": [
        "# reshape input data\n",
        "X_train = X_train.reshape(\n",
        "    X_train.shape[0], config.img_width, config.img_height, 1)\n",
        "#it creates one channel\n",
        "X_test = X_test.reshape(\n",
        "    X_test.shape[0], config.img_width, config.img_height, 1)\n",
        "\n",
        "# one hot encode outputs\n",
        "y_train = np_utils.to_categorical(y_train)\n",
        "y_test = np_utils.to_categorical(y_test)\n",
        "print(y_train.shape)\n",
        "num_classes = y_test.shape[1]\n",
        "labels = range(10)"
      ],
      "execution_count": 21,
      "outputs": [
        {
          "output_type": "stream",
          "text": [
            "(60000, 10)\n"
          ],
          "name": "stdout"
        }
      ]
    },
    {
      "cell_type": "markdown",
      "metadata": {
        "id": "ar0JcDPvem_6",
        "colab_type": "text"
      },
      "source": [
        "## Model Building"
      ]
    },
    {
      "cell_type": "code",
      "metadata": {
        "id": "TTZ0o7TreEDX",
        "colab_type": "code",
        "outputId": "57820609-0d66-43dd-cdac-4abf68041aab",
        "colab": {
          "base_uri": "https://localhost:8080/",
          "height": 459
        }
      },
      "source": [
        "# build model\n",
        "model = Sequential()\n",
        "model.add(Conv2D(32,\n",
        "                 (config.first_layer_conv_width, config.first_layer_conv_height),\n",
        "                 input_shape=(28, 28, 1),\n",
        "                 activation='relu'))\n",
        "model.add(MaxPooling2D(pool_size=(2, 2)))\n",
        "#takes max of 4 blocks\n",
        "#13*13*32\n",
        "#26*26*32\n",
        "#model.add(Dropout(0.4))\n",
        "model.add(Conv2D(64,\n",
        "                 (3, 3),\n",
        "                 activation='relu'))\n",
        "model.add(MaxPooling2D(pool_size=(2, 2)))\n",
        "#11*11*64\n",
        "model.add(Dropout(0.4))\n",
        "#6*6*64\n",
        "model.add(Flatten())\n",
        "#do it normally like simple mnist\n",
        "model.add(Dense(config.dense_layer_size, activation='relu'))\n",
        "model.add(Dropout(0.4))\n",
        "model.add(Dense(num_classes, activation='softmax'))\n",
        "\n",
        "model.compile(loss='categorical_crossentropy', optimizer='adam',\n",
        "              metrics=['accuracy'])\n",
        "model.summary()\n"
      ],
      "execution_count": 22,
      "outputs": [
        {
          "output_type": "stream",
          "text": [
            "Model: \"sequential_3\"\n",
            "_________________________________________________________________\n",
            "Layer (type)                 Output Shape              Param #   \n",
            "=================================================================\n",
            "conv2d_5 (Conv2D)            (None, 26, 26, 32)        320       \n",
            "_________________________________________________________________\n",
            "max_pooling2d_5 (MaxPooling2 (None, 13, 13, 32)        0         \n",
            "_________________________________________________________________\n",
            "conv2d_6 (Conv2D)            (None, 11, 11, 64)        18496     \n",
            "_________________________________________________________________\n",
            "max_pooling2d_6 (MaxPooling2 (None, 5, 5, 64)          0         \n",
            "_________________________________________________________________\n",
            "dropout_5 (Dropout)          (None, 5, 5, 64)          0         \n",
            "_________________________________________________________________\n",
            "flatten_3 (Flatten)          (None, 1600)              0         \n",
            "_________________________________________________________________\n",
            "dense_5 (Dense)              (None, 100)               160100    \n",
            "_________________________________________________________________\n",
            "dropout_6 (Dropout)          (None, 100)               0         \n",
            "_________________________________________________________________\n",
            "dense_6 (Dense)              (None, 10)                1010      \n",
            "=================================================================\n",
            "Total params: 179,926\n",
            "Trainable params: 179,926\n",
            "Non-trainable params: 0\n",
            "_________________________________________________________________\n"
          ],
          "name": "stdout"
        }
      ]
    },
    {
      "cell_type": "code",
      "metadata": {
        "id": "3WZnUmbTeESk",
        "colab_type": "code",
        "outputId": "fd41affb-a392-419e-bb30-8f3dc966ee92",
        "colab": {
          "base_uri": "https://localhost:8080/",
          "height": 1000
        }
      },
      "source": [
        "%%wandb\n",
        "## Model Running\n",
        "history = model.fit(X_train, y_train, validation_data=(X_test, y_test),\n",
        "          epochs=config.epochs,\n",
        "          callbacks=[WandbCallback(data_type=\"image\", save_model=False)])"
      ],
      "execution_count": 23,
      "outputs": [
        {
          "output_type": "display_data",
          "data": {
            "text/html": [
              "<iframe src=\"https://app.wandb.ai/uttakarsh05/uncategorized/runs/2oilbpxa?jupyter=true&state=paused\" style=\"border:none;width:100%;height:420px\">\n",
              "        </iframe>"
            ],
            "text/plain": [
              "<wandb.jupyter.Run at 0x7f25966bfb00>"
            ]
          },
          "metadata": {
            "tags": []
          }
        },
        {
          "output_type": "stream",
          "text": [
            "Train on 60000 samples, validate on 10000 samples\n",
            "Epoch 1/30\n",
            "  736/60000 [..............................] - ETA: 1:22 - loss: 2.0729 - acc: 0.2527"
          ],
          "name": "stdout"
        },
        {
          "output_type": "stream",
          "text": [
            "/usr/local/lib/python3.6/dist-packages/keras/callbacks.py:95: RuntimeWarning: Method (on_train_batch_end) is slow compared to the batch update (0.428762). Check your callbacks.\n",
            "  % (hook_name, delta_t_median), RuntimeWarning)\n",
            "/usr/local/lib/python3.6/dist-packages/keras/callbacks.py:95: RuntimeWarning: Method (on_train_batch_end) is slow compared to the batch update (0.215098). Check your callbacks.\n",
            "  % (hook_name, delta_t_median), RuntimeWarning)\n"
          ],
          "name": "stderr"
        },
        {
          "output_type": "stream",
          "text": [
            "60000/60000 [==============================] - 16s 272us/step - loss: 0.2174 - acc: 0.9325 - val_loss: 0.0471 - val_acc: 0.9845\n",
            "Epoch 2/30\n",
            "60000/60000 [==============================] - 16s 260us/step - loss: 0.0878 - acc: 0.9730 - val_loss: 0.0433 - val_acc: 0.9867\n",
            "Epoch 3/30\n",
            "60000/60000 [==============================] - 16s 261us/step - loss: 0.0670 - acc: 0.9790 - val_loss: 0.0319 - val_acc: 0.9901\n",
            "Epoch 4/30\n",
            "60000/60000 [==============================] - 16s 262us/step - loss: 0.0593 - acc: 0.9821 - val_loss: 0.0294 - val_acc: 0.9899\n",
            "Epoch 5/30\n",
            "60000/60000 [==============================] - 16s 262us/step - loss: 0.0506 - acc: 0.9842 - val_loss: 0.0247 - val_acc: 0.9919\n",
            "Epoch 6/30\n",
            "60000/60000 [==============================] - 16s 267us/step - loss: 0.0460 - acc: 0.9859 - val_loss: 0.0230 - val_acc: 0.9930\n",
            "Epoch 7/30\n",
            "60000/60000 [==============================] - 16s 263us/step - loss: 0.0429 - acc: 0.9868 - val_loss: 0.0231 - val_acc: 0.9928\n",
            "Epoch 8/30\n",
            "60000/60000 [==============================] - 16s 263us/step - loss: 0.0410 - acc: 0.9875 - val_loss: 0.0211 - val_acc: 0.9934\n",
            "Epoch 9/30\n",
            "60000/60000 [==============================] - 16s 261us/step - loss: 0.0349 - acc: 0.9889 - val_loss: 0.0251 - val_acc: 0.9917\n",
            "Epoch 10/30\n",
            "60000/60000 [==============================] - 16s 260us/step - loss: 0.0343 - acc: 0.9893 - val_loss: 0.0200 - val_acc: 0.9937\n",
            "Epoch 11/30\n",
            "60000/60000 [==============================] - 16s 263us/step - loss: 0.0340 - acc: 0.9897 - val_loss: 0.0204 - val_acc: 0.9932\n",
            "Epoch 12/30\n",
            "60000/60000 [==============================] - 16s 265us/step - loss: 0.0317 - acc: 0.9899 - val_loss: 0.0228 - val_acc: 0.9933\n",
            "Epoch 13/30\n",
            "60000/60000 [==============================] - 16s 260us/step - loss: 0.0287 - acc: 0.9907 - val_loss: 0.0240 - val_acc: 0.9928\n",
            "Epoch 14/30\n",
            "60000/60000 [==============================] - 16s 259us/step - loss: 0.0282 - acc: 0.9910 - val_loss: 0.0207 - val_acc: 0.9937\n",
            "Epoch 15/30\n",
            "60000/60000 [==============================] - 16s 262us/step - loss: 0.0295 - acc: 0.9907 - val_loss: 0.0234 - val_acc: 0.9939\n",
            "Epoch 16/30\n",
            "60000/60000 [==============================] - 16s 261us/step - loss: 0.0271 - acc: 0.9915 - val_loss: 0.0220 - val_acc: 0.9935\n",
            "Epoch 17/30\n",
            "60000/60000 [==============================] - 16s 260us/step - loss: 0.0256 - acc: 0.9917 - val_loss: 0.0228 - val_acc: 0.9935\n",
            "Epoch 18/30\n",
            "60000/60000 [==============================] - 16s 259us/step - loss: 0.0245 - acc: 0.9923 - val_loss: 0.0215 - val_acc: 0.9940\n",
            "Epoch 19/30\n",
            "60000/60000 [==============================] - 16s 259us/step - loss: 0.0225 - acc: 0.9930 - val_loss: 0.0192 - val_acc: 0.9950\n",
            "Epoch 20/30\n",
            "60000/60000 [==============================] - 16s 259us/step - loss: 0.0254 - acc: 0.9915 - val_loss: 0.0225 - val_acc: 0.9935\n",
            "Epoch 21/30\n",
            "60000/60000 [==============================] - 16s 261us/step - loss: 0.0246 - acc: 0.9924 - val_loss: 0.0198 - val_acc: 0.9942\n",
            "Epoch 22/30\n",
            "60000/60000 [==============================] - 16s 263us/step - loss: 0.0216 - acc: 0.9932 - val_loss: 0.0333 - val_acc: 0.9916\n",
            "Epoch 23/30\n",
            "60000/60000 [==============================] - 16s 263us/step - loss: 0.0223 - acc: 0.9930 - val_loss: 0.0213 - val_acc: 0.9941\n",
            "Epoch 24/30\n",
            "60000/60000 [==============================] - 16s 263us/step - loss: 0.0220 - acc: 0.9930 - val_loss: 0.0240 - val_acc: 0.9937\n",
            "Epoch 25/30\n",
            "60000/60000 [==============================] - 16s 270us/step - loss: 0.0205 - acc: 0.9933 - val_loss: 0.0215 - val_acc: 0.9946\n",
            "Epoch 26/30\n",
            "60000/60000 [==============================] - 16s 265us/step - loss: 0.0212 - acc: 0.9933 - val_loss: 0.0233 - val_acc: 0.9939\n",
            "Epoch 27/30\n",
            "60000/60000 [==============================] - 16s 264us/step - loss: 0.0204 - acc: 0.9936 - val_loss: 0.0232 - val_acc: 0.9940\n",
            "Epoch 28/30\n",
            "60000/60000 [==============================] - 16s 264us/step - loss: 0.0206 - acc: 0.9935 - val_loss: 0.0238 - val_acc: 0.9937\n",
            "Epoch 29/30\n",
            "60000/60000 [==============================] - 16s 262us/step - loss: 0.0197 - acc: 0.9935 - val_loss: 0.0223 - val_acc: 0.9940\n",
            "Epoch 30/30\n",
            "60000/60000 [==============================] - 16s 262us/step - loss: 0.0197 - acc: 0.9937 - val_loss: 0.0229 - val_acc: 0.9940\n"
          ],
          "name": "stdout"
        }
      ]
    },
    {
      "cell_type": "code",
      "metadata": {
        "id": "3hX4B-stlU_t",
        "colab_type": "code",
        "outputId": "2d143a2d-a48e-4264-d3e9-351a9cee1f66",
        "colab": {
          "base_uri": "https://localhost:8080/",
          "height": 573
        }
      },
      "source": [
        "import matplotlib.pyplot as plt\n",
        "# Plot training & validation accuracy values\n",
        "plt.plot(history.history['acc'])\n",
        "plt.plot(history.history['val_acc'])\n",
        "plt.title('Model accuracy')\n",
        "plt.ylabel('Accuracy')\n",
        "plt.xlabel('Epoch')\n",
        "plt.legend(['Train', 'Test'], loc='upper left')\n",
        "plt.show()\n",
        "\n",
        "# Plot training & validation loss values\n",
        "plt.plot(history.history['loss'])\n",
        "plt.plot(history.history['val_loss'])\n",
        "plt.title('Model loss')\n",
        "plt.ylabel('Loss')\n",
        "plt.xlabel('Epoch')\n",
        "plt.legend(['Train', 'Test'], loc='upper left')\n",
        "plt.show()"
      ],
      "execution_count": 0,
      "outputs": [
        {
          "output_type": "display_data",
          "data": {
            "image/png": "[encoded data removed]",
            "text/plain": [
              "<Figure size 432x288 with 1 Axes>"
            ]
          },
          "metadata": {
            "tags": []
          }
        },
        {
          "output_type": "display_data",
          "data": {
            "image/png": "[encoded data removed]",
            "text/plain": [
              "<Figure size 432x288 with 1 Axes>"
            ]
          },
          "metadata": {
            "tags": []
          }
        }
      ]
    },
    {
      "cell_type": "code",
      "metadata": {
        "id": "wN-nX-ZWlnOQ",
        "colab_type": "code",
        "colab": {}
      },
      "source": [
        ""
      ],
      "execution_count": 0,
      "outputs": []
    }
  ]
}